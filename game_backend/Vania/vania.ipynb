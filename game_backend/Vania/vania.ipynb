{
 "cells": [
  {
   "cell_type": "code",
   "execution_count": 7,
   "metadata": {},
   "outputs": [
    {
     "name": "stdout",
     "output_type": "stream",
     "text": [
      "🧪\n"
     ]
    }
   ],
   "source": [
    "print(u'\\U0001F9EA')"
   ]
  },
  {
   "cell_type": "code",
   "execution_count": 2,
   "metadata": {},
   "outputs": [
    {
     "name": "stdout",
     "output_type": "stream",
     "text": [
      "2\n"
     ]
    }
   ],
   "source": [
    "items_dict = {\"life\":1, \"money\":0, \"potion\":0, \"weapon\":0}\n",
    "items_dict[\"life\"]+=1\n",
    "print(items_dict[\"life\"])"
   ]
  }
 ],
 "metadata": {
  "interpreter": {
   "hash": "f2937ad44b3dc09d58958fc19cdf839ace1c3cda95dd570e70fd4d775d885696"
  },
  "kernelspec": {
   "display_name": "Python 3.9.7 ('aptp3')",
   "language": "python",
   "name": "python3"
  },
  "language_info": {
   "codemirror_mode": {
    "name": "ipython",
    "version": 3
   },
   "file_extension": ".py",
   "mimetype": "text/x-python",
   "name": "python",
   "nbconvert_exporter": "python",
   "pygments_lexer": "ipython3",
   "version": "3.9.5"
  },
  "orig_nbformat": 4
 },
 "nbformat": 4,
 "nbformat_minor": 2
}
