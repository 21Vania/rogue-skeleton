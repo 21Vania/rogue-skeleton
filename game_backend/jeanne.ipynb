{
 "cells": [
  {
   "cell_type": "code",
   "execution_count": null,
   "metadata": {},
   "outputs": [],
   "source": []
  },
  {
   "cell_type": "markdown",
   "metadata": {},
   "source": [
    "POUR LE HTML\n",
    "\n",
    "<div id=\"gameover\"><h1>You lose</h1></div>\n",
    "<div id=\"win\"><h1>Congratulations !<br/>You win</h1></div>\n",
    "\n",
    "\n",
    "POUR LE CSS:\n",
    "#gameover,\n",
    "#win {\n",
    "  position: absolute;\n",
    "  top: 0;\n",
    "  left: 0;\n",
    "  height: 100%;\n",
    "  width: 100%;\n",
    "}\n",
    "\n",
    "#gameover {\n",
    "  display: none;\n",
    "  background: tomato;\n",
    "}\n",
    "#win {\n",
    "  opacity: 0;\n",
    "  pointer-events: none; /* permet d'avoir les tableaux au dessus sans perturber le jeux*/\n",
    "}"
   ]
  },
  {
   "cell_type": "markdown",
   "metadata": {},
   "source": []
  }
 ],
 "metadata": {
  "language_info": {
   "name": "python"
  },
  "orig_nbformat": 4
 },
 "nbformat": 4,
 "nbformat_minor": 2
}
